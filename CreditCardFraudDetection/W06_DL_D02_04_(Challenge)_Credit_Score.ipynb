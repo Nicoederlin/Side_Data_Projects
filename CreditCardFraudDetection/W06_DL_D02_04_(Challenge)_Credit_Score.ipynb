{
  "nbformat": 4,
  "nbformat_minor": 5,
  "metadata": {
    "kernelspec": {
      "display_name": "Python 3",
      "language": "python",
      "name": "python3"
    },
    "language_info": {
      "codemirror_mode": {
        "name": "ipython",
        "version": 3
      },
      "file_extension": ".py",
      "mimetype": "text/x-python",
      "name": "python",
      "nbconvert_exporter": "python",
      "pygments_lexer": "ipython3",
      "version": "3.7.6"
    },
    "toc": {
      "base_numbering": 1,
      "nav_menu": {},
      "number_sections": true,
      "sideBar": true,
      "skip_h1_title": true,
      "title_cell": "Table of Contents",
      "title_sidebar": "Contents",
      "toc_cell": false,
      "toc_position": {
        "height": "calc(100% - 180px)",
        "left": "10px",
        "top": "150px",
        "width": "276.818px"
      },
      "toc_section_display": true,
      "toc_window_display": true
    },
    "varInspector": {
      "cols": {
        "lenName": 16,
        "lenType": 16,
        "lenVar": 40
      },
      "kernels_config": {
        "python": {
          "delete_cmd_postfix": "",
          "delete_cmd_prefix": "del ",
          "library": "var_list.py",
          "varRefreshCmd": "print(var_dic_list())"
        },
        "r": {
          "delete_cmd_postfix": ") ",
          "delete_cmd_prefix": "rm(",
          "library": "var_list.r",
          "varRefreshCmd": "cat(var_dic_list()) "
        }
      },
      "types_to_exclude": [
        "module",
        "function",
        "builtin_function_or_method",
        "instance",
        "_Feature"
      ],
      "window_display": false
    },
    "colab": {
      "name": "W06 - DL - D02 - 04. (Challenge) Credit Score.ipynb",
      "provenance": [],
      "collapsed_sections": [],
      "toc_visible": true
    }
  },
  "cells": [
    {
      "cell_type": "code",
      "metadata": {
        "id": "vmTMSfLoskiR"
      },
      "source": [
        ""
      ],
      "id": "vmTMSfLoskiR",
      "execution_count": null,
      "outputs": []
    },
    {
      "cell_type": "code",
      "metadata": {
        "id": "saSTG_NJlUOw"
      },
      "source": [
        ""
      ],
      "id": "saSTG_NJlUOw",
      "execution_count": null,
      "outputs": []
    },
    {
      "cell_type": "code",
      "metadata": {
        "id": "5O1rLKExKcy7",
        "colab": {
          "base_uri": "https://localhost:8080/"
        },
        "outputId": "28303adc-2f3c-4c2f-f1c3-5d130de8e838"
      },
      "source": [
        "from google.colab import drive\n",
        "drive.mount('/content/drive')"
      ],
      "id": "5O1rLKExKcy7",
      "execution_count": 10,
      "outputs": [
        {
          "output_type": "stream",
          "text": [
            "Drive already mounted at /content/drive; to attempt to forcibly remount, call drive.mount(\"/content/drive\", force_remount=True).\n"
          ],
          "name": "stdout"
        }
      ]
    },
    {
      "cell_type": "code",
      "metadata": {
        "id": "dgrwcHZl1eYh"
      },
      "source": [
        "data_path = '/content/drive/My Drive/Colab Notebooks/data/'"
      ],
      "id": "dgrwcHZl1eYh",
      "execution_count": 11,
      "outputs": []
    },
    {
      "cell_type": "markdown",
      "metadata": {
        "id": "_Qr3hUzHsviU"
      },
      "source": [
        "# Deep Learning - Day 2 - Challenge `Credit Card`"
      ],
      "id": "_Qr3hUzHsviU"
    },
    {
      "cell_type": "code",
      "metadata": {
        "id": "pYSeRSeOsvik"
      },
      "source": [
        "''' Linear Algebra'''\n",
        "import pandas as pd\n",
        "import numpy as np\n",
        "''' Data visualisation'''\n",
        "import matplotlib.pyplot as plt \n",
        "import seaborn as sns\n",
        "import warnings\n",
        "\n",
        "''' Scikit-Learn'''\n",
        "from sklearn.model_selection import train_test_split\n",
        "from sklearn.preprocessing import StandardScaler, RobustScaler\n",
        "from sklearn.metrics import confusion_matrix\n",
        "\n",
        "''' Imbalanced Classes'''\n",
        "import imblearn\n",
        "from imblearn.over_sampling import SMOTE\n",
        "from imblearn.under_sampling import RandomUnderSampler\n",
        "from imblearn.pipeline import Pipeline\n",
        "\n",
        "''' Tensorflow Keras'''\n",
        "from tensorflow.keras import models\n",
        "from tensorflow.keras import layers\n",
        "from tensorflow.keras.callbacks import EarlyStopping\n",
        "from tensorflow.keras import regularizers\n",
        "from tensorflow.keras.optimizers import Adam\n",
        "from tensorflow.keras.optimizers.schedules import ExponentialDecay\n"
      ],
      "id": "pYSeRSeOsvik",
      "execution_count": 12,
      "outputs": []
    },
    {
      "cell_type": "markdown",
      "metadata": {
        "id": "mr88bYYRsvio"
      },
      "source": [
        "All the previous exercises made you take a closer look at all the different parts of a neural network: the architecture, the compilation and the fitting.\n",
        "\n",
        "Let's now work on a real-life dataset that has a lot of data!\n",
        "\n",
        "The data\n",
        "For this open challenge, you will work with data extracted from credit card transactions. As these are sensitive data, from all the 31 columns, only 3 are known: the rest are data that have been transformed to anonymize them (in fact, they are PCA projections of initial data).\n",
        "\n",
        "The other three known columns are:\n",
        "\n",
        "- \"TIME\": the time elapsed between the transaction and the first transaction in the dataset\n",
        "- \"AMOUNT\": the amount of the transaction\n",
        "- \"CLASS\": 0 means that the transaction is valid whereas 1 means that it is a fraud.\n",
        "\n",
        "\n",
        "Start by downloading the data on the Kaggle website here - you can read more about the data over there."
      ],
      "id": "mr88bYYRsvio"
    },
    {
      "cell_type": "markdown",
      "metadata": {
        "id": "34cmkXJQsvip"
      },
      "source": [
        "## Transaction Amount Prediction\n",
        "\n",
        "\n",
        "Here, you will work on a regression task, where you will try to predict the amount of the transaction, which is the \"AMOUNT\" column. For this task, you will drop the \"CLASS\" dataset are you are not supposed to know if the transaction is a fraud or not.\n",
        "\n",
        "- Build you architecture, compile it and fit in on the data.\n",
        "- Do not forget to validate your result with a test set (or even better, with a real cross-validation)\n",
        "- To know whether your score is correct or not, compare it to a simple benchmark."
      ],
      "id": "34cmkXJQsvip"
    },
    {
      "cell_type": "code",
      "metadata": {
        "id": "fAbDTfTxsvis"
      },
      "source": [
        "# YOUR CODE HERE\n",
        "df = pd.read_csv(data_path+'creditcard.csv')"
      ],
      "id": "fAbDTfTxsvis",
      "execution_count": 13,
      "outputs": []
    },
    {
      "cell_type": "code",
      "metadata": {
        "id": "wcyT8ZkVsviu",
        "colab": {
          "base_uri": "https://localhost:8080/",
          "height": 226
        },
        "outputId": "aee89687-18ce-4b92-f7b4-9676b8f2eed7"
      },
      "source": [
        "df.head()"
      ],
      "id": "wcyT8ZkVsviu",
      "execution_count": 14,
      "outputs": [
        {
          "output_type": "execute_result",
          "data": {
            "text/html": [
              "<div>\n",
              "<style scoped>\n",
              "    .dataframe tbody tr th:only-of-type {\n",
              "        vertical-align: middle;\n",
              "    }\n",
              "\n",
              "    .dataframe tbody tr th {\n",
              "        vertical-align: top;\n",
              "    }\n",
              "\n",
              "    .dataframe thead th {\n",
              "        text-align: right;\n",
              "    }\n",
              "</style>\n",
              "<table border=\"1\" class=\"dataframe\">\n",
              "  <thead>\n",
              "    <tr style=\"text-align: right;\">\n",
              "      <th></th>\n",
              "      <th>Time</th>\n",
              "      <th>V1</th>\n",
              "      <th>V2</th>\n",
              "      <th>V3</th>\n",
              "      <th>V4</th>\n",
              "      <th>V5</th>\n",
              "      <th>V6</th>\n",
              "      <th>V7</th>\n",
              "      <th>V8</th>\n",
              "      <th>V9</th>\n",
              "      <th>V10</th>\n",
              "      <th>V11</th>\n",
              "      <th>V12</th>\n",
              "      <th>V13</th>\n",
              "      <th>V14</th>\n",
              "      <th>V15</th>\n",
              "      <th>V16</th>\n",
              "      <th>V17</th>\n",
              "      <th>V18</th>\n",
              "      <th>V19</th>\n",
              "      <th>V20</th>\n",
              "      <th>V21</th>\n",
              "      <th>V22</th>\n",
              "      <th>V23</th>\n",
              "      <th>V24</th>\n",
              "      <th>V25</th>\n",
              "      <th>V26</th>\n",
              "      <th>V27</th>\n",
              "      <th>V28</th>\n",
              "      <th>Amount</th>\n",
              "      <th>Class</th>\n",
              "    </tr>\n",
              "  </thead>\n",
              "  <tbody>\n",
              "    <tr>\n",
              "      <th>0</th>\n",
              "      <td>0.0</td>\n",
              "      <td>-1.359807</td>\n",
              "      <td>-0.072781</td>\n",
              "      <td>2.536347</td>\n",
              "      <td>1.378155</td>\n",
              "      <td>-0.338321</td>\n",
              "      <td>0.462388</td>\n",
              "      <td>0.239599</td>\n",
              "      <td>0.098698</td>\n",
              "      <td>0.363787</td>\n",
              "      <td>0.090794</td>\n",
              "      <td>-0.551600</td>\n",
              "      <td>-0.617801</td>\n",
              "      <td>-0.991390</td>\n",
              "      <td>-0.311169</td>\n",
              "      <td>1.468177</td>\n",
              "      <td>-0.470401</td>\n",
              "      <td>0.207971</td>\n",
              "      <td>0.025791</td>\n",
              "      <td>0.403993</td>\n",
              "      <td>0.251412</td>\n",
              "      <td>-0.018307</td>\n",
              "      <td>0.277838</td>\n",
              "      <td>-0.110474</td>\n",
              "      <td>0.066928</td>\n",
              "      <td>0.128539</td>\n",
              "      <td>-0.189115</td>\n",
              "      <td>0.133558</td>\n",
              "      <td>-0.021053</td>\n",
              "      <td>149.62</td>\n",
              "      <td>0</td>\n",
              "    </tr>\n",
              "    <tr>\n",
              "      <th>1</th>\n",
              "      <td>0.0</td>\n",
              "      <td>1.191857</td>\n",
              "      <td>0.266151</td>\n",
              "      <td>0.166480</td>\n",
              "      <td>0.448154</td>\n",
              "      <td>0.060018</td>\n",
              "      <td>-0.082361</td>\n",
              "      <td>-0.078803</td>\n",
              "      <td>0.085102</td>\n",
              "      <td>-0.255425</td>\n",
              "      <td>-0.166974</td>\n",
              "      <td>1.612727</td>\n",
              "      <td>1.065235</td>\n",
              "      <td>0.489095</td>\n",
              "      <td>-0.143772</td>\n",
              "      <td>0.635558</td>\n",
              "      <td>0.463917</td>\n",
              "      <td>-0.114805</td>\n",
              "      <td>-0.183361</td>\n",
              "      <td>-0.145783</td>\n",
              "      <td>-0.069083</td>\n",
              "      <td>-0.225775</td>\n",
              "      <td>-0.638672</td>\n",
              "      <td>0.101288</td>\n",
              "      <td>-0.339846</td>\n",
              "      <td>0.167170</td>\n",
              "      <td>0.125895</td>\n",
              "      <td>-0.008983</td>\n",
              "      <td>0.014724</td>\n",
              "      <td>2.69</td>\n",
              "      <td>0</td>\n",
              "    </tr>\n",
              "    <tr>\n",
              "      <th>2</th>\n",
              "      <td>1.0</td>\n",
              "      <td>-1.358354</td>\n",
              "      <td>-1.340163</td>\n",
              "      <td>1.773209</td>\n",
              "      <td>0.379780</td>\n",
              "      <td>-0.503198</td>\n",
              "      <td>1.800499</td>\n",
              "      <td>0.791461</td>\n",
              "      <td>0.247676</td>\n",
              "      <td>-1.514654</td>\n",
              "      <td>0.207643</td>\n",
              "      <td>0.624501</td>\n",
              "      <td>0.066084</td>\n",
              "      <td>0.717293</td>\n",
              "      <td>-0.165946</td>\n",
              "      <td>2.345865</td>\n",
              "      <td>-2.890083</td>\n",
              "      <td>1.109969</td>\n",
              "      <td>-0.121359</td>\n",
              "      <td>-2.261857</td>\n",
              "      <td>0.524980</td>\n",
              "      <td>0.247998</td>\n",
              "      <td>0.771679</td>\n",
              "      <td>0.909412</td>\n",
              "      <td>-0.689281</td>\n",
              "      <td>-0.327642</td>\n",
              "      <td>-0.139097</td>\n",
              "      <td>-0.055353</td>\n",
              "      <td>-0.059752</td>\n",
              "      <td>378.66</td>\n",
              "      <td>0</td>\n",
              "    </tr>\n",
              "    <tr>\n",
              "      <th>3</th>\n",
              "      <td>1.0</td>\n",
              "      <td>-0.966272</td>\n",
              "      <td>-0.185226</td>\n",
              "      <td>1.792993</td>\n",
              "      <td>-0.863291</td>\n",
              "      <td>-0.010309</td>\n",
              "      <td>1.247203</td>\n",
              "      <td>0.237609</td>\n",
              "      <td>0.377436</td>\n",
              "      <td>-1.387024</td>\n",
              "      <td>-0.054952</td>\n",
              "      <td>-0.226487</td>\n",
              "      <td>0.178228</td>\n",
              "      <td>0.507757</td>\n",
              "      <td>-0.287924</td>\n",
              "      <td>-0.631418</td>\n",
              "      <td>-1.059647</td>\n",
              "      <td>-0.684093</td>\n",
              "      <td>1.965775</td>\n",
              "      <td>-1.232622</td>\n",
              "      <td>-0.208038</td>\n",
              "      <td>-0.108300</td>\n",
              "      <td>0.005274</td>\n",
              "      <td>-0.190321</td>\n",
              "      <td>-1.175575</td>\n",
              "      <td>0.647376</td>\n",
              "      <td>-0.221929</td>\n",
              "      <td>0.062723</td>\n",
              "      <td>0.061458</td>\n",
              "      <td>123.50</td>\n",
              "      <td>0</td>\n",
              "    </tr>\n",
              "    <tr>\n",
              "      <th>4</th>\n",
              "      <td>2.0</td>\n",
              "      <td>-1.158233</td>\n",
              "      <td>0.877737</td>\n",
              "      <td>1.548718</td>\n",
              "      <td>0.403034</td>\n",
              "      <td>-0.407193</td>\n",
              "      <td>0.095921</td>\n",
              "      <td>0.592941</td>\n",
              "      <td>-0.270533</td>\n",
              "      <td>0.817739</td>\n",
              "      <td>0.753074</td>\n",
              "      <td>-0.822843</td>\n",
              "      <td>0.538196</td>\n",
              "      <td>1.345852</td>\n",
              "      <td>-1.119670</td>\n",
              "      <td>0.175121</td>\n",
              "      <td>-0.451449</td>\n",
              "      <td>-0.237033</td>\n",
              "      <td>-0.038195</td>\n",
              "      <td>0.803487</td>\n",
              "      <td>0.408542</td>\n",
              "      <td>-0.009431</td>\n",
              "      <td>0.798278</td>\n",
              "      <td>-0.137458</td>\n",
              "      <td>0.141267</td>\n",
              "      <td>-0.206010</td>\n",
              "      <td>0.502292</td>\n",
              "      <td>0.219422</td>\n",
              "      <td>0.215153</td>\n",
              "      <td>69.99</td>\n",
              "      <td>0</td>\n",
              "    </tr>\n",
              "  </tbody>\n",
              "</table>\n",
              "</div>"
            ],
            "text/plain": [
              "   Time        V1        V2        V3  ...       V27       V28  Amount  Class\n",
              "0   0.0 -1.359807 -0.072781  2.536347  ...  0.133558 -0.021053  149.62      0\n",
              "1   0.0  1.191857  0.266151  0.166480  ... -0.008983  0.014724    2.69      0\n",
              "2   1.0 -1.358354 -1.340163  1.773209  ... -0.055353 -0.059752  378.66      0\n",
              "3   1.0 -0.966272 -0.185226  1.792993  ...  0.062723  0.061458  123.50      0\n",
              "4   2.0 -1.158233  0.877737  1.548718  ...  0.219422  0.215153   69.99      0\n",
              "\n",
              "[5 rows x 31 columns]"
            ]
          },
          "metadata": {
            "tags": []
          },
          "execution_count": 14
        }
      ]
    },
    {
      "cell_type": "code",
      "metadata": {
        "collapsed": true,
        "id": "6kPKsOPUsvi1"
      },
      "source": [
        ""
      ],
      "id": "6kPKsOPUsvi1",
      "execution_count": 14,
      "outputs": []
    },
    {
      "cell_type": "code",
      "metadata": {
        "id": "31miQswksvi3",
        "colab": {
          "base_uri": "https://localhost:8080/"
        },
        "outputId": "0a9c6faf-eaa2-4de1-fe94-c3489adf0321"
      },
      "source": [
        "df.shape"
      ],
      "id": "31miQswksvi3",
      "execution_count": 15,
      "outputs": [
        {
          "output_type": "execute_result",
          "data": {
            "text/plain": [
              "(284807, 31)"
            ]
          },
          "metadata": {
            "tags": []
          },
          "execution_count": 15
        }
      ]
    },
    {
      "cell_type": "code",
      "metadata": {
        "id": "BvCSFgBbsvi4",
        "colab": {
          "base_uri": "https://localhost:8080/",
          "height": 304
        },
        "outputId": "0407882d-2e4a-4652-fd0a-c789dae56771"
      },
      "source": [
        "sns.heatmap(df.corr())"
      ],
      "id": "BvCSFgBbsvi4",
      "execution_count": 16,
      "outputs": [
        {
          "output_type": "execute_result",
          "data": {
            "text/plain": [
              "<matplotlib.axes._subplots.AxesSubplot at 0x7fc0fb288c50>"
            ]
          },
          "metadata": {
            "tags": []
          },
          "execution_count": 16
        },
        {
          "output_type": "display_data",
          "data": {
            "image/png": "[encoded data removed]",
            "text/plain": [
              "<Figure size 432x288 with 2 Axes>"
            ]
          },
          "metadata": {
            "tags": [],
            "needs_background": "light"
          }
        }
      ]
    },
    {
      "cell_type": "code",
      "metadata": {
        "id": "5FavjI4fsvi-",
        "colab": {
          "base_uri": "https://localhost:8080/",
          "height": 500
        },
        "outputId": "44710650-6803-4865-c3a7-f2a29f40488d"
      },
      "source": [
        "warnings.filterwarnings('ignore')\n",
        "fig, ax = plt.subplots(1, 2, figsize=(18,8))\n",
        "\n",
        "''' --- Distribution of the Amount values --- '''\n",
        "\n",
        "amount_val = df['Amount'].values\n",
        "\n",
        "\n",
        "sns.distplot(amount_val, ax=ax[0], color='r')\n",
        "ax[0].set_title('Distribution of Transaction Amount', fontsize=14)\n",
        "ax[0].set_xlim([min(amount_val), max(amount_val)])\n",
        "\n",
        "''' --- Distribution of the Transaction Times --- '''\n",
        "\n",
        "time_val = df['Time'].values\n",
        "\n",
        "sns.distplot(time_val, ax=ax[1], color='b')\n",
        "ax[1].set_title('Distribution of Transaction Time', fontsize=14)\n",
        "ax[1].set_xlim([min(time_val), max(time_val)])\n",
        "\n",
        "plt.show()\n"
      ],
      "id": "5FavjI4fsvi-",
      "execution_count": 17,
      "outputs": [
        {
          "output_type": "display_data",
          "data": {
            "image/png": "[encoded data removed]",
            "text/plain": [
              "<Figure size 1296x576 with 2 Axes>"
            ]
          },
          "metadata": {
            "tags": [],
            "needs_background": "light"
          }
        }
      ]
    },
    {
      "cell_type": "code",
      "metadata": {
        "id": "7cdh0HA8svjB"
      },
      "source": [
        "# Select data\n",
        "X = df.drop(columns=['Class','Amount'],axis=1)\n",
        "y = df['Amount']\n",
        "\n",
        "# Train test split\n",
        "X_train, X_test, y_train, y_test = train_test_split(X, y, test_size=0.3, random_state=42)"
      ],
      "id": "7cdh0HA8svjB",
      "execution_count": 21,
      "outputs": []
    },
    {
      "cell_type": "code",
      "metadata": {
        "id": "ta3iu5AfsvjF",
        "colab": {
          "base_uri": "https://localhost:8080/"
        },
        "outputId": "baa8c51d-f286-4482-993d-3e53da4594ca"
      },
      "source": [
        "X_train.shape, X_test.shape, y_train.shape, y_test.shape"
      ],
      "id": "ta3iu5AfsvjF",
      "execution_count": 22,
      "outputs": [
        {
          "output_type": "execute_result",
          "data": {
            "text/plain": [
              "((199364, 29), (85443, 29), (199364,), (85443,))"
            ]
          },
          "metadata": {
            "tags": []
          },
          "execution_count": 22
        }
      ]
    },
    {
      "cell_type": "code",
      "metadata": {
        "id": "Q3uofB0CsvjH"
      },
      "source": [
        "# RobustScaler is less prone to outliers.\n",
        "\n",
        "rb_scaler = RobustScaler()\n",
        "\n",
        "rb_scaler.fit(X_train['Time'].values.reshape(-1, 1))\n",
        "\n",
        "\n",
        "\n",
        "X_train.loc[:,'Time'] = rb_scaler.transform(X_train.loc[:,'Time'].values.reshape(-1,1))\n",
        "X_test.loc[:,'Time'] = rb_scaler.transform(X_test.loc[:,'Time'].values.reshape(-1,1))\n"
      ],
      "id": "Q3uofB0CsvjH",
      "execution_count": 23,
      "outputs": []
    },
    {
      "cell_type": "markdown",
      "metadata": {
        "id": "KsvxtEKasvjI"
      },
      "source": [
        "### RegBenchmark"
      ],
      "id": "KsvxtEKasvjI"
    },
    {
      "cell_type": "code",
      "metadata": {
        "id": "mDQFkzDHsvjI",
        "colab": {
          "base_uri": "https://localhost:8080/"
        },
        "outputId": "59375685-806f-4ee9-8068-4022c6908401"
      },
      "source": [
        "# Benchmark\n",
        "y_pred = np.mean(y_train)\n",
        "print(f'The mean prediction is {y_pred:.3f}')\n",
        "\n",
        "benchmark_absolute_error = [np.abs(y - y_pred) for y in y_test]\n",
        "benchmark_mean_absolute_error = np.mean(benchmark_absolute_error)\n",
        "\n",
        "print(f'The benchmark mean absolute error is of {benchmark_mean_absolute_error:.3f}')"
      ],
      "id": "mDQFkzDHsvjI",
      "execution_count": 24,
      "outputs": [
        {
          "output_type": "stream",
          "text": [
            "The mean prediction is 88.800\n",
            "The benchmark mean absolute error is of 102.814\n"
          ],
          "name": "stdout"
        }
      ]
    },
    {
      "cell_type": "code",
      "metadata": {
        "id": "Hd8vs0P4svjK"
      },
      "source": [
        "def plot_loss_mae(history):\n",
        "    plt.plot(history.history['loss'])\n",
        "    plt.plot(history.history['val_loss'])\n",
        "    plt.title('Model loss')\n",
        "    plt.ylabel('Loss')\n",
        "    plt.xlabel('Epoch')\n",
        "    plt.legend(['Train', 'Validation'], loc='best')\n",
        "    plt.show()\n",
        "    \n",
        "    plt.plot(history.history['mae'])\n",
        "    plt.plot(history.history['val_mae'])\n",
        "    plt.title('Model Mean Absolute Error')\n",
        "    plt.ylabel('Mean Absolute Error')\n",
        "    plt.xlabel('Epoch')\n",
        "    plt.legend(['Train', 'Validation'], loc='best')\n",
        "    plt.show()"
      ],
      "id": "Hd8vs0P4svjK",
      "execution_count": 25,
      "outputs": []
    },
    {
      "cell_type": "markdown",
      "metadata": {
        "id": "BrDNkBO3svjL"
      },
      "source": [
        "### RegNN"
      ],
      "id": "BrDNkBO3svjL"
    },
    {
      "cell_type": "code",
      "metadata": {
        "id": "OSRFt6musvjL",
        "colab": {
          "base_uri": "https://localhost:8080/"
        },
        "outputId": "969c9fa3-63ad-462a-eb83-84eb4305bb4f"
      },
      "source": [
        "X_train.shape[1]"
      ],
      "id": "OSRFt6musvjL",
      "execution_count": 26,
      "outputs": [
        {
          "output_type": "execute_result",
          "data": {
            "text/plain": [
              "29"
            ]
          },
          "metadata": {
            "tags": []
          },
          "execution_count": 26
        }
      ]
    },
    {
      "cell_type": "code",
      "metadata": {
        "id": "x__WQ2UpsvjM"
      },
      "source": [
        "def deep_regression():\n",
        "\n",
        "    # Model architecture\n",
        "    model = models.Sequential()\n",
        "    model.add(layers.Dense(25, activation='relu', input_dim=X_train.shape[1]))\n",
        "    model.add(layers.Dense(20, activation='relu'))\n",
        "    model.add(layers.Dense(10, activation='relu'))\n",
        "    model.add(layers.Dense(1, activation='linear'))\n",
        "    \n",
        "#     # Learning rate schedule\n",
        "#     initial_learning_rate = 0.05\n",
        "    \n",
        "#     lr_schedule = ExponentialDecay(\n",
        "#         initial_learning_rate, decay_steps=100, decay_rate=0.3,\n",
        "#     )\n",
        "    \n",
        "#     adam = Adam(learning_rate=lr_schedule)\n",
        "\n",
        "    \n",
        "    # Model compilation\n",
        "    model.compile(optimizer='adam',\n",
        "                  loss='mse',\n",
        "                 metrics=['mae'])\n",
        "    \n",
        "    print(model.summary())\n",
        "    \n",
        "    return model"
      ],
      "id": "x__WQ2UpsvjM",
      "execution_count": 27,
      "outputs": []
    },
    {
      "cell_type": "code",
      "metadata": {
        "id": "5hwvEOtHsvjN",
        "colab": {
          "base_uri": "https://localhost:8080/"
        },
        "outputId": "60c58e22-4d08-48cb-d3ca-be93c9d249be"
      },
      "source": [
        "deep_reg = deep_regression()"
      ],
      "id": "5hwvEOtHsvjN",
      "execution_count": 28,
      "outputs": [
        {
          "output_type": "stream",
          "text": [
            "Model: \"sequential\"\n",
            "_________________________________________________________________\n",
            "Layer (type)                 Output Shape              Param #   \n",
            "=================================================================\n",
            "dense (Dense)                (None, 25)                750       \n",
            "_________________________________________________________________\n",
            "dense_1 (Dense)              (None, 20)                520       \n",
            "_________________________________________________________________\n",
            "dense_2 (Dense)              (None, 10)                210       \n",
            "_________________________________________________________________\n",
            "dense_3 (Dense)              (None, 1)                 11        \n",
            "=================================================================\n",
            "Total params: 1,491\n",
            "Trainable params: 1,491\n",
            "Non-trainable params: 0\n",
            "_________________________________________________________________\n",
            "None\n"
          ],
          "name": "stdout"
        }
      ]
    },
    {
      "cell_type": "code",
      "metadata": {
        "scrolled": false,
        "id": "CEvjLWJIsvjN",
        "colab": {
          "base_uri": "https://localhost:8080/"
        },
        "outputId": "04696a12-fbc0-49a5-ef44-1038679f4ca9"
      },
      "source": [
        "%%time\n",
        "# Fitting the model\n",
        "es = EarlyStopping(patience=10, restore_best_weights=True)\n",
        "\n",
        "history_deep_reg = deep_reg.fit(X_train, y_train,\n",
        "                    validation_split=0.3,\n",
        "                    epochs=1000,\n",
        "                    batch_size=32, \n",
        "                    verbose=1, \n",
        "                    callbacks=[es])"
      ],
      "id": "CEvjLWJIsvjN",
      "execution_count": 29,
      "outputs": [
        {
          "output_type": "stream",
          "text": [
            "Epoch 1/1000\n",
            "4362/4362 [==============================] - 8s 2ms/step - loss: 8640.5039 - mae: 27.9269 - val_loss: 2915.7913 - val_mae: 17.0142\n",
            "Epoch 2/1000\n",
            "4362/4362 [==============================] - 7s 2ms/step - loss: 1849.6881 - mae: 13.4470 - val_loss: 1372.0027 - val_mae: 12.0571\n",
            "Epoch 3/1000\n",
            "4362/4362 [==============================] - 7s 2ms/step - loss: 1289.7421 - mae: 11.7182 - val_loss: 1012.0057 - val_mae: 10.5047\n",
            "Epoch 4/1000\n",
            "4362/4362 [==============================] - 7s 2ms/step - loss: 1033.0564 - mae: 10.5305 - val_loss: 925.8002 - val_mae: 9.7162\n",
            "Epoch 5/1000\n",
            "4362/4362 [==============================] - 8s 2ms/step - loss: 894.0022 - mae: 10.0194 - val_loss: 920.3271 - val_mae: 10.1199\n",
            "Epoch 6/1000\n",
            "4362/4362 [==============================] - 7s 2ms/step - loss: 717.7310 - mae: 9.4100 - val_loss: 863.7306 - val_mae: 8.9561\n",
            "Epoch 7/1000\n",
            "4362/4362 [==============================] - 7s 2ms/step - loss: 668.0466 - mae: 9.0632 - val_loss: 884.9458 - val_mae: 8.9944\n",
            "Epoch 8/1000\n",
            "4362/4362 [==============================] - 7s 2ms/step - loss: 582.9283 - mae: 8.9094 - val_loss: 766.6047 - val_mae: 8.5120\n",
            "Epoch 9/1000\n",
            "4362/4362 [==============================] - 7s 2ms/step - loss: 527.2158 - mae: 8.3078 - val_loss: 628.8985 - val_mae: 7.1630\n",
            "Epoch 10/1000\n",
            "4362/4362 [==============================] - 7s 2ms/step - loss: 495.1470 - mae: 7.9822 - val_loss: 788.7391 - val_mae: 7.6775\n",
            "Epoch 11/1000\n",
            "4362/4362 [==============================] - 7s 2ms/step - loss: 457.3400 - mae: 7.8210 - val_loss: 619.0823 - val_mae: 7.0770\n",
            "Epoch 12/1000\n",
            "4362/4362 [==============================] - 7s 2ms/step - loss: 437.4583 - mae: 7.6850 - val_loss: 544.5917 - val_mae: 6.6893\n",
            "Epoch 13/1000\n",
            "4362/4362 [==============================] - 7s 2ms/step - loss: 432.4453 - mae: 7.3154 - val_loss: 546.8464 - val_mae: 6.3590\n",
            "Epoch 14/1000\n",
            "4362/4362 [==============================] - 7s 2ms/step - loss: 404.9146 - mae: 7.1308 - val_loss: 712.9991 - val_mae: 7.7097\n",
            "Epoch 15/1000\n",
            "4362/4362 [==============================] - 7s 2ms/step - loss: 362.4893 - mae: 7.0453 - val_loss: 539.6021 - val_mae: 8.3182\n",
            "Epoch 16/1000\n",
            "4362/4362 [==============================] - 7s 2ms/step - loss: 345.0076 - mae: 6.8617 - val_loss: 699.3131 - val_mae: 13.8637\n",
            "Epoch 17/1000\n",
            "4362/4362 [==============================] - 7s 2ms/step - loss: 324.8861 - mae: 6.8277 - val_loss: 471.2046 - val_mae: 6.3627\n",
            "Epoch 18/1000\n",
            "4362/4362 [==============================] - 7s 2ms/step - loss: 308.4385 - mae: 6.5293 - val_loss: 469.5888 - val_mae: 6.0051\n",
            "Epoch 19/1000\n",
            "4362/4362 [==============================] - 7s 2ms/step - loss: 281.5529 - mae: 6.2465 - val_loss: 514.8151 - val_mae: 6.0356\n",
            "Epoch 20/1000\n",
            "4362/4362 [==============================] - 7s 2ms/step - loss: 297.2628 - mae: 6.3810 - val_loss: 378.2149 - val_mae: 5.6310\n",
            "Epoch 21/1000\n",
            "4362/4362 [==============================] - 7s 2ms/step - loss: 259.9836 - mae: 5.9799 - val_loss: 379.3661 - val_mae: 5.1515\n",
            "Epoch 22/1000\n",
            "4362/4362 [==============================] - 7s 2ms/step - loss: 285.4286 - mae: 6.4162 - val_loss: 682.1158 - val_mae: 8.9647\n",
            "Epoch 23/1000\n",
            "4362/4362 [==============================] - 7s 2ms/step - loss: 263.9042 - mae: 6.1360 - val_loss: 390.6664 - val_mae: 6.5615\n",
            "Epoch 24/1000\n",
            "4362/4362 [==============================] - 7s 2ms/step - loss: 235.5611 - mae: 5.7821 - val_loss: 425.9286 - val_mae: 5.1507\n",
            "Epoch 25/1000\n",
            "4362/4362 [==============================] - 7s 2ms/step - loss: 241.3338 - mae: 5.9468 - val_loss: 417.3627 - val_mae: 7.5869\n",
            "Epoch 26/1000\n",
            "4362/4362 [==============================] - 7s 2ms/step - loss: 214.9454 - mae: 5.6160 - val_loss: 855.7802 - val_mae: 10.6196\n",
            "Epoch 27/1000\n",
            "4362/4362 [==============================] - 7s 2ms/step - loss: 238.1775 - mae: 5.6202 - val_loss: 392.8556 - val_mae: 6.9360\n",
            "Epoch 28/1000\n",
            "4362/4362 [==============================] - 7s 2ms/step - loss: 223.2944 - mae: 5.7818 - val_loss: 320.1346 - val_mae: 5.0991\n",
            "Epoch 29/1000\n",
            "4362/4362 [==============================] - 7s 2ms/step - loss: 236.8285 - mae: 5.8186 - val_loss: 361.7150 - val_mae: 5.2977\n",
            "Epoch 30/1000\n",
            "4362/4362 [==============================] - 7s 2ms/step - loss: 219.2913 - mae: 5.5317 - val_loss: 392.0412 - val_mae: 4.5785\n",
            "Epoch 31/1000\n",
            "4362/4362 [==============================] - 7s 2ms/step - loss: 212.5409 - mae: 5.5113 - val_loss: 334.9918 - val_mae: 4.5319\n",
            "Epoch 32/1000\n",
            "4362/4362 [==============================] - 7s 2ms/step - loss: 212.4668 - mae: 5.5272 - val_loss: 308.2859 - val_mae: 4.3765\n",
            "Epoch 33/1000\n",
            "4362/4362 [==============================] - 7s 2ms/step - loss: 202.5972 - mae: 5.4590 - val_loss: 441.3910 - val_mae: 4.8511\n",
            "Epoch 34/1000\n",
            "4362/4362 [==============================] - 7s 2ms/step - loss: 201.8851 - mae: 5.4617 - val_loss: 326.9297 - val_mae: 4.7249\n",
            "Epoch 35/1000\n",
            "4362/4362 [==============================] - 7s 2ms/step - loss: 222.5806 - mae: 5.2323 - val_loss: 310.4710 - val_mae: 4.4589\n",
            "Epoch 36/1000\n",
            "4362/4362 [==============================] - 11s 2ms/step - loss: 170.9738 - mae: 5.0095 - val_loss: 339.1321 - val_mae: 4.2753\n",
            "Epoch 37/1000\n",
            "4362/4362 [==============================] - 9s 2ms/step - loss: 208.9996 - mae: 5.3130 - val_loss: 458.3151 - val_mae: 4.9781\n",
            "Epoch 38/1000\n",
            "4362/4362 [==============================] - 7s 2ms/step - loss: 179.5526 - mae: 5.0628 - val_loss: 338.5508 - val_mae: 4.7126\n",
            "Epoch 39/1000\n",
            "4362/4362 [==============================] - 7s 2ms/step - loss: 169.4024 - mae: 4.9533 - val_loss: 300.9794 - val_mae: 4.7716\n",
            "Epoch 40/1000\n",
            "4362/4362 [==============================] - 7s 2ms/step - loss: 169.8873 - mae: 4.9906 - val_loss: 278.9580 - val_mae: 4.4269\n",
            "Epoch 41/1000\n",
            "4362/4362 [==============================] - 7s 2ms/step - loss: 172.1272 - mae: 4.9623 - val_loss: 279.5165 - val_mae: 4.6869\n",
            "Epoch 42/1000\n",
            "4362/4362 [==============================] - 7s 2ms/step - loss: 195.9048 - mae: 5.3461 - val_loss: 349.7278 - val_mae: 4.1603\n",
            "Epoch 43/1000\n",
            "4362/4362 [==============================] - 7s 2ms/step - loss: 160.1720 - mae: 4.7047 - val_loss: 300.3995 - val_mae: 4.9683\n",
            "Epoch 44/1000\n",
            "4362/4362 [==============================] - 7s 2ms/step - loss: 146.7696 - mae: 4.6966 - val_loss: 273.4970 - val_mae: 4.9378\n",
            "Epoch 45/1000\n",
            "4362/4362 [==============================] - 7s 2ms/step - loss: 184.5465 - mae: 5.1290 - val_loss: 299.0822 - val_mae: 6.6457\n",
            "Epoch 46/1000\n",
            "4362/4362 [==============================] - 7s 2ms/step - loss: 165.6183 - mae: 4.7845 - val_loss: 274.1788 - val_mae: 3.7506\n",
            "Epoch 47/1000\n",
            "4362/4362 [==============================] - 7s 2ms/step - loss: 163.8009 - mae: 4.8767 - val_loss: 490.7098 - val_mae: 7.4920\n",
            "Epoch 48/1000\n",
            "4362/4362 [==============================] - 7s 2ms/step - loss: 141.5766 - mae: 4.6363 - val_loss: 289.8792 - val_mae: 4.3171\n",
            "Epoch 49/1000\n",
            "4362/4362 [==============================] - 7s 2ms/step - loss: 170.4928 - mae: 4.7799 - val_loss: 268.9582 - val_mae: 4.0224\n",
            "Epoch 50/1000\n",
            "4362/4362 [==============================] - 8s 2ms/step - loss: 152.5277 - mae: 4.8888 - val_loss: 264.5332 - val_mae: 4.1359\n",
            "Epoch 51/1000\n",
            "4362/4362 [==============================] - 7s 2ms/step - loss: 140.1389 - mae: 4.5783 - val_loss: 334.0616 - val_mae: 5.4180\n",
            "Epoch 52/1000\n",
            "4362/4362 [==============================] - 7s 2ms/step - loss: 156.8675 - mae: 4.8920 - val_loss: 254.7626 - val_mae: 4.0349\n",
            "Epoch 53/1000\n",
            "4362/4362 [==============================] - 7s 2ms/step - loss: 130.5713 - mae: 4.4923 - val_loss: 273.1675 - val_mae: 4.0483\n",
            "Epoch 54/1000\n",
            "4362/4362 [==============================] - 7s 2ms/step - loss: 158.7783 - mae: 4.8249 - val_loss: 241.4985 - val_mae: 3.9998\n",
            "Epoch 55/1000\n",
            "4362/4362 [==============================] - 7s 2ms/step - loss: 150.1513 - mae: 4.4656 - val_loss: 284.6477 - val_mae: 4.2827\n",
            "Epoch 56/1000\n",
            "4362/4362 [==============================] - 7s 2ms/step - loss: 129.3049 - mae: 4.3486 - val_loss: 257.5287 - val_mae: 4.0443\n",
            "Epoch 57/1000\n",
            "4362/4362 [==============================] - 7s 2ms/step - loss: 150.9546 - mae: 4.5239 - val_loss: 298.5404 - val_mae: 5.7025\n",
            "Epoch 58/1000\n",
            "4362/4362 [==============================] - 7s 2ms/step - loss: 153.1617 - mae: 4.4702 - val_loss: 287.7187 - val_mae: 3.7093\n",
            "Epoch 59/1000\n",
            "4362/4362 [==============================] - 7s 2ms/step - loss: 117.4314 - mae: 4.2750 - val_loss: 484.0195 - val_mae: 6.4800\n",
            "Epoch 60/1000\n",
            "4362/4362 [==============================] - 8s 2ms/step - loss: 148.5920 - mae: 4.5644 - val_loss: 235.3910 - val_mae: 3.6353\n",
            "Epoch 61/1000\n",
            "4362/4362 [==============================] - 7s 2ms/step - loss: 144.1613 - mae: 4.5001 - val_loss: 247.7770 - val_mae: 5.1611\n",
            "Epoch 62/1000\n",
            "4362/4362 [==============================] - 7s 2ms/step - loss: 139.7538 - mae: 4.3952 - val_loss: 236.0112 - val_mae: 4.5866\n",
            "Epoch 63/1000\n",
            "4362/4362 [==============================] - 7s 2ms/step - loss: 128.5136 - mae: 4.2758 - val_loss: 284.2044 - val_mae: 6.9286\n",
            "Epoch 64/1000\n",
            "4362/4362 [==============================] - 7s 2ms/step - loss: 137.0193 - mae: 4.3654 - val_loss: 340.8222 - val_mae: 3.9630\n",
            "Epoch 65/1000\n",
            "4362/4362 [==============================] - 7s 2ms/step - loss: 144.7820 - mae: 4.7756 - val_loss: 313.1968 - val_mae: 4.6938\n",
            "Epoch 66/1000\n",
            "4362/4362 [==============================] - 7s 2ms/step - loss: 116.6924 - mae: 4.1453 - val_loss: 279.3662 - val_mae: 4.0248\n",
            "Epoch 67/1000\n",
            "4362/4362 [==============================] - 7s 2ms/step - loss: 129.2207 - mae: 4.4626 - val_loss: 917.1769 - val_mae: 12.7318\n",
            "Epoch 68/1000\n",
            "4362/4362 [==============================] - 7s 2ms/step - loss: 110.9316 - mae: 4.1213 - val_loss: 450.3105 - val_mae: 7.1390\n",
            "Epoch 69/1000\n",
            "4362/4362 [==============================] - 7s 2ms/step - loss: 133.6718 - mae: 4.3924 - val_loss: 270.3472 - val_mae: 3.7927\n",
            "Epoch 70/1000\n",
            "4362/4362 [==============================] - 7s 2ms/step - loss: 123.0670 - mae: 4.1398 - val_loss: 264.2583 - val_mae: 3.8017\n",
            "CPU times: user 9min 18s, sys: 51.3 s, total: 10min 9s\n",
            "Wall time: 8min 15s\n"
          ],
          "name": "stdout"
        }
      ]
    },
    {
      "cell_type": "code",
      "metadata": {
        "id": "xMicqSvmsvjQ",
        "colab": {
          "base_uri": "https://localhost:8080/",
          "height": 573
        },
        "outputId": "fdbfc9bd-03a2-4120-e2f2-417a20544f23"
      },
      "source": [
        "plot_loss_mae(history_deep_reg)"
      ],
      "id": "xMicqSvmsvjQ",
      "execution_count": 36,
      "outputs": [
        {
          "output_type": "display_data",
          "data": {
            "image/png": "[encoded data removed]",
            "text/plain": [
              "<Figure size 432x288 with 1 Axes>"
            ]
          },
          "metadata": {
            "tags": [],
            "needs_background": "light"
          }
        },
        {
          "output_type": "display_data",
          "data": {
            "image/png": "[encoded data removed]",
            "text/plain": [
              "<Figure size 432x288 with 1 Axes>"
            ]
          },
          "metadata": {
            "tags": [],
            "needs_background": "light"
          }
        }
      ]
    },
    {
      "cell_type": "code",
      "metadata": {
        "id": "p4fkptuLsvjS",
        "colab": {
          "base_uri": "https://localhost:8080/"
        },
        "outputId": "e041c089-6901-4204-b1cf-50a4cf7d23b6"
      },
      "source": [
        "res_deep_reg = deep_reg.evaluate(X_test, y_test, verbose=0)\n",
        "print(\" ---------- MAE for the deep_regression_v1 ---------\")\n",
        "print(f'{res_deep_reg[1]:.4f}')\n"
      ],
      "id": "p4fkptuLsvjS",
      "execution_count": 37,
      "outputs": [
        {
          "output_type": "stream",
          "text": [
            " ---------- MAE for the deep_regression_v1 ---------\n",
            "3.4977\n"
          ],
          "name": "stdout"
        }
      ]
    },
    {
      "cell_type": "code",
      "metadata": {
        "id": "2LetpAGEsvjT",
        "colab": {
          "base_uri": "https://localhost:8080/"
        },
        "outputId": "8aa3edc3-0186-4ea0-b372-6414fdf7101c"
      },
      "source": [
        "print(\" ---------- MAE the dummy regressor  ---------\")\n",
        "print(f\"{benchmark_mean_absolute_error:.4f}\")"
      ],
      "id": "2LetpAGEsvjT",
      "execution_count": 38,
      "outputs": [
        {
          "output_type": "stream",
          "text": [
            " ---------- MAE the dummy regressor  ---------\n",
            "102.8142\n"
          ],
          "name": "stdout"
        }
      ]
    },
    {
      "cell_type": "code",
      "metadata": {
        "id": "E_d-A7HnsvjU"
      },
      "source": [
        ""
      ],
      "id": "E_d-A7HnsvjU",
      "execution_count": 38,
      "outputs": []
    },
    {
      "cell_type": "code",
      "metadata": {
        "id": "3WfOy1KpsvjV"
      },
      "source": [
        ""
      ],
      "id": "3WfOy1KpsvjV",
      "execution_count": 38,
      "outputs": []
    },
    {
      "cell_type": "markdown",
      "metadata": {
        "id": "3VuZuZOMsvjV"
      },
      "source": [
        "## Fraud detection\n",
        "\n",
        "\n",
        "In this second task, you can reload your data and work on the detection of the fraud, which is in the \"CLASS\" column. You again have to build a neural network for this classification task. But first, you should look at the number of occurences of the 0 (= not a fraud) class against the 1 (= fraud) class. You can think of strategies to work this out. Otherwise, try to achieve the best possible score."
      ],
      "id": "3VuZuZOMsvjV"
    },
    {
      "cell_type": "markdown",
      "metadata": {
        "id": "_PudWFQgsvjV"
      },
      "source": [
        "### Rebalancing classes"
      ],
      "id": "_PudWFQgsvjV"
    },
    {
      "cell_type": "markdown",
      "metadata": {
        "id": "IcBYI5W5svjX"
      },
      "source": [
        "In this `fraud detection` challenge, the classes are extremely imbalanced:\n",
        "* 99.8 % of normal transactions\n",
        "* 0.2 % of fraudulent transactions"
      ],
      "id": "IcBYI5W5svjX"
    },
    {
      "cell_type": "code",
      "metadata": {
        "id": "X0bhRERrsLDF"
      },
      "source": [
        "# Select data\n",
        "X = df.drop(columns=['Class'],axis=1)\n",
        "y = df['Class']\n"
      ],
      "id": "X0bhRERrsLDF",
      "execution_count": 40,
      "outputs": []
    },
    {
      "cell_type": "code",
      "metadata": {
        "id": "Kc3TnRvtsvjX",
        "colab": {
          "base_uri": "https://localhost:8080/"
        },
        "outputId": "e3c050ae-67c0-489d-cdd8-7cb5574dff77"
      },
      "source": [
        "pd.Series(y).value_counts()"
      ],
      "id": "Kc3TnRvtsvjX",
      "execution_count": 41,
      "outputs": [
        {
          "output_type": "execute_result",
          "data": {
            "text/plain": [
              "0    284315\n",
              "1       492\n",
              "Name: Class, dtype: int64"
            ]
          },
          "metadata": {
            "tags": []
          },
          "execution_count": 41
        }
      ]
    },
    {
      "cell_type": "code",
      "metadata": {
        "id": "onXAsyB3svjY",
        "colab": {
          "base_uri": "https://localhost:8080/"
        },
        "outputId": "b03d4a69-7497-4d75-bce7-976630fe2281"
      },
      "source": [
        "pd.Series(y).value_counts(normalize = True)"
      ],
      "id": "onXAsyB3svjY",
      "execution_count": 44,
      "outputs": [
        {
          "output_type": "execute_result",
          "data": {
            "text/plain": [
              "0    0.998273\n",
              "1    0.001727\n",
              "Name: Class, dtype: float64"
            ]
          },
          "metadata": {
            "tags": []
          },
          "execution_count": 44
        }
      ]
    },
    {
      "cell_type": "markdown",
      "metadata": {
        "id": "7E7sq0UOsvjY"
      },
      "source": [
        "The model won't be able to detect frauds unless we apply some rebalancing strategies:\n",
        "1. Do not oversample the minority class by duplicating occurences, this will result in `data leakage`\n",
        "2. Do not downsample the majority class, this will result in dropping almost 99% of your data \n",
        "3. We can use <a href=\"https://machinelearningmastery.com/smote-oversampling-for-imbalanced-classification/\">Synthetic Minority Oversampling Technique</a> to generate new datapoints by weighting the existing ones\n",
        "4. We can use <a href=\"https://machinelearningmastery.com/random-oversampling-and-undersampling-for-imbalanced-classification/\">RandomUnderSampler</a> to downsample a little bit the majority class\n",
        "5. It is not advised to rebalance at 50/50 because this is also far from the reality"
      ],
      "id": "7E7sq0UOsvjY"
    },
    {
      "cell_type": "code",
      "metadata": {
        "id": "TjNBlwWVsvjY"
      },
      "source": [
        "# Sampling strategies\n",
        "over = SMOTE(sampling_strategy=0.05)\n",
        "under = RandomUnderSampler(sampling_strategy=0.3)\n"
      ],
      "id": "TjNBlwWVsvjY",
      "execution_count": 47,
      "outputs": []
    },
    {
      "cell_type": "code",
      "metadata": {
        "id": "MTyStyA_svjZ"
      },
      "source": [
        "# Pipelining the two strategies\n",
        "steps =  [('o', over), ('u', under)]\n",
        "pipeline = Pipeline(steps=steps)\n",
        "\n",
        "\n",
        "# Rebalance the dataset\n",
        "X_resampled, y_resampled = pipeline.fit_resample(X, y)\n"
      ],
      "id": "MTyStyA_svjZ",
      "execution_count": 48,
      "outputs": []
    },
    {
      "cell_type": "code",
      "metadata": {
        "id": "RzI5jnKnsvjZ",
        "colab": {
          "base_uri": "https://localhost:8080/",
          "height": 296
        },
        "outputId": "a6d42852-a8cd-4ece-cbdb-6709042824ec"
      },
      "source": [
        "# plotting\n",
        "warnings.filterwarnings('ignore')\n",
        "fig, ax = plt.subplots(1, 2, figsize=(18,4))\n",
        "\n",
        "''' Before rebalancing classes'''\n",
        "\n",
        "sns.countplot(y, ax=ax[0], color='b')\n",
        "ax[0].set_title('Y before balancing', fontsize=14)\n",
        "\n",
        "''' After rebalancing classes'''\n",
        "\n",
        "sns.countplot(y_resampled, ax=ax[1], color='b')\n",
        "ax[1].set_title('Y after balancing', fontsize=14);"
      ],
      "id": "RzI5jnKnsvjZ",
      "execution_count": 49,
      "outputs": [
        {
          "output_type": "display_data",
          "data": {
            "image/png": "[encoded data removed]",
            "text/plain": [
              "<Figure size 1296x288 with 2 Axes>"
            ]
          },
          "metadata": {
            "tags": [],
            "needs_background": "light"
          }
        }
      ]
    },
    {
      "cell_type": "code",
      "metadata": {
        "id": "abmZ_nhJsvjZ",
        "colab": {
          "base_uri": "https://localhost:8080/"
        },
        "outputId": "1a8913b6-cefb-4011-cd1b-4cb57dd3f557"
      },
      "source": [
        "print(f\"----- len(y) -----\")\n",
        "print(len(y))\n",
        "\n",
        "print(f\"----- len(y_resampled) -----\")\n",
        "print(len(y_resampled))\n",
        "\n",
        "print(f\"----- len(y_resampled) / len(y) -----\")\n",
        "print(round(len(y_resampled) / len(y),3))"
      ],
      "id": "abmZ_nhJsvjZ",
      "execution_count": 50,
      "outputs": [
        {
          "output_type": "stream",
          "text": [
            "----- len(y) -----\n",
            "284807\n",
            "----- len(y_resampled) -----\n",
            "61598\n",
            "----- len(y_resampled) / len(y) -----\n",
            "0.216\n"
          ],
          "name": "stdout"
        }
      ]
    },
    {
      "cell_type": "code",
      "metadata": {
        "id": "qD0OwlZgsvja",
        "colab": {
          "base_uri": "https://localhost:8080/"
        },
        "outputId": "81e19bcb-9b2f-4967-e7ac-e2e27a51ad1a"
      },
      "source": [
        "pd.Series(y).value_counts()"
      ],
      "id": "qD0OwlZgsvja",
      "execution_count": 51,
      "outputs": [
        {
          "output_type": "execute_result",
          "data": {
            "text/plain": [
              "0    284315\n",
              "1       492\n",
              "Name: Class, dtype: int64"
            ]
          },
          "metadata": {
            "tags": []
          },
          "execution_count": 51
        }
      ]
    },
    {
      "cell_type": "code",
      "metadata": {
        "colab": {
          "base_uri": "https://localhost:8080/"
        },
        "id": "jUnw01MQsqKP",
        "outputId": "9210bbcd-e34a-4691-aa46-071ca117b23e"
      },
      "source": [
        "pd.Series(y).value_counts(normalize = True)"
      ],
      "id": "jUnw01MQsqKP",
      "execution_count": 54,
      "outputs": [
        {
          "output_type": "execute_result",
          "data": {
            "text/plain": [
              "0    0.998273\n",
              "1    0.001727\n",
              "Name: Class, dtype: float64"
            ]
          },
          "metadata": {
            "tags": []
          },
          "execution_count": 54
        }
      ]
    },
    {
      "cell_type": "code",
      "metadata": {
        "id": "mlzN-PBusvjb",
        "colab": {
          "base_uri": "https://localhost:8080/"
        },
        "outputId": "b5408b9a-fb71-470c-e958-f89a500840e4"
      },
      "source": [
        "pd.Series(y_resampled).value_counts()"
      ],
      "id": "mlzN-PBusvjb",
      "execution_count": 52,
      "outputs": [
        {
          "output_type": "execute_result",
          "data": {
            "text/plain": [
              "0    47383\n",
              "1    14215\n",
              "dtype: int64"
            ]
          },
          "metadata": {
            "tags": []
          },
          "execution_count": 52
        }
      ]
    },
    {
      "cell_type": "code",
      "metadata": {
        "id": "JDd5uWTAsvjb",
        "colab": {
          "base_uri": "https://localhost:8080/"
        },
        "outputId": "44987724-269e-4080-f0a8-e68a79401ddd"
      },
      "source": [
        "pd.Series(y_resampled).value_counts(normalize = True)"
      ],
      "id": "JDd5uWTAsvjb",
      "execution_count": 53,
      "outputs": [
        {
          "output_type": "execute_result",
          "data": {
            "text/plain": [
              "0    0.76923\n",
              "1    0.23077\n",
              "dtype: float64"
            ]
          },
          "metadata": {
            "tags": []
          },
          "execution_count": 53
        }
      ]
    },
    {
      "cell_type": "code",
      "metadata": {
        "id": "r-4DTyc8svjc",
        "colab": {
          "base_uri": "https://localhost:8080/"
        },
        "outputId": "eda17efe-8737-442e-bbd9-8e046640409e"
      },
      "source": [
        "print(f\"----- len(y_0) ----------------------\")\n",
        "print(pd.Series(y).value_counts()[0])\n",
        "\n",
        "print(f\"----- len(y_resampled_0) ------------\")\n",
        "print(pd.Series(y_resampled).value_counts()[0])\n",
        "\n",
        "print(f\"----- len(y_resampled) / len(y) -----\")\n",
        "print(round(pd.Series(y_resampled).value_counts()[0] / pd.Series(y).value_counts()[0],3))"
      ],
      "id": "r-4DTyc8svjc",
      "execution_count": 55,
      "outputs": [
        {
          "output_type": "stream",
          "text": [
            "----- len(y_0) ----------------------\n",
            "284315\n",
            "----- len(y_resampled_0) ------------\n",
            "47383\n",
            "----- len(y_resampled) / len(y) -----\n",
            "0.167\n"
          ],
          "name": "stdout"
        }
      ]
    },
    {
      "cell_type": "code",
      "metadata": {
        "id": "GsX3bbdHsvje",
        "colab": {
          "base_uri": "https://localhost:8080/"
        },
        "outputId": "5873e2b4-6958-4b92-a9b3-47e96090178f"
      },
      "source": [
        "print(f\"----- len(y_1) ----------------------\")\n",
        "print(pd.Series(y).value_counts()[1])\n",
        "\n",
        "print(f\"----- len(y_resampled_1) ------------\")\n",
        "print(pd.Series(y_resampled).value_counts()[1])\n",
        "\n",
        "print(f\"----- len(y_resampled_1) / len(y_1) -----\")\n",
        "print(round(pd.Series(y_resampled).value_counts()[1] / pd.Series(y).value_counts()[1],3))"
      ],
      "id": "GsX3bbdHsvje",
      "execution_count": 56,
      "outputs": [
        {
          "output_type": "stream",
          "text": [
            "----- len(y_1) ----------------------\n",
            "492\n",
            "----- len(y_resampled_1) ------------\n",
            "14215\n",
            "----- len(y_resampled_1) / len(y_1) -----\n",
            "28.892\n"
          ],
          "name": "stdout"
        }
      ]
    },
    {
      "cell_type": "code",
      "metadata": {
        "id": "shhI8E2jsvje",
        "colab": {
          "base_uri": "https://localhost:8080/"
        },
        "outputId": "c5f5afd8-ceae-42c0-c5ce-43d6eadbc8eb"
      },
      "source": [
        "round(pd.Series(y_resampled).value_counts()/len(y_resampled),3)"
      ],
      "id": "shhI8E2jsvje",
      "execution_count": 57,
      "outputs": [
        {
          "output_type": "execute_result",
          "data": {
            "text/plain": [
              "0    0.769\n",
              "1    0.231\n",
              "dtype: float64"
            ]
          },
          "metadata": {
            "tags": []
          },
          "execution_count": 57
        }
      ]
    },
    {
      "cell_type": "markdown",
      "metadata": {
        "id": "Qj63ShmQsvje"
      },
      "source": [
        "### Stratified Holdout"
      ],
      "id": "Qj63ShmQsvje"
    },
    {
      "cell_type": "code",
      "metadata": {
        "id": "X2d0Cyybsvjf"
      },
      "source": [
        "# Train test split\n",
        "X_train, X_test, y_train, y_test = train_test_split(X_resampled, y_resampled, test_size = 0.3, random_state = 0, shuffle = True, stratify = y_resampled)"
      ],
      "id": "X2d0Cyybsvjf",
      "execution_count": 58,
      "outputs": []
    },
    {
      "cell_type": "code",
      "metadata": {
        "colab": {
          "base_uri": "https://localhost:8080/"
        },
        "id": "v9tT5wOcuKgi",
        "outputId": "c5227a35-efc3-4ea3-ebec-5b4010ecbd69"
      },
      "source": [
        "X.columns"
      ],
      "id": "v9tT5wOcuKgi",
      "execution_count": 83,
      "outputs": [
        {
          "output_type": "execute_result",
          "data": {
            "text/plain": [
              "Index(['Time', 'V1', 'V2', 'V3', 'V4', 'V5', 'V6', 'V7', 'V8', 'V9', 'V10',\n",
              "       'V11', 'V12', 'V13', 'V14', 'V15', 'V16', 'V17', 'V18', 'V19', 'V20',\n",
              "       'V21', 'V22', 'V23', 'V24', 'V25', 'V26', 'V27', 'V28', 'Amount'],\n",
              "      dtype='object')"
            ]
          },
          "metadata": {
            "tags": []
          },
          "execution_count": 83
        }
      ]
    },
    {
      "cell_type": "code",
      "metadata": {
        "id": "qn-XBfCKuOkG"
      },
      "source": [
        "X_train = pd.DataFrame(X_train)\n",
        "X_train.columns = X.columns\n",
        "\n",
        "X_test = pd.DataFrame(X_test)\n",
        "X_test.columns = X.columns"
      ],
      "id": "qn-XBfCKuOkG",
      "execution_count": 84,
      "outputs": []
    },
    {
      "cell_type": "code",
      "metadata": {
        "id": "XdrJtDNrsvjf",
        "colab": {
          "base_uri": "https://localhost:8080/",
          "height": 282
        },
        "outputId": "3510857e-a218-488e-c352-509894eefbad"
      },
      "source": [
        "warnings.filterwarnings('ignore')\n",
        "fig, ax = plt.subplots(1, 2, figsize=(18,4))\n",
        "\n",
        "sns.countplot(y_train, ax=ax[0], color='b')\n",
        "ax[0].set_title('Train-set distribution of y', fontsize=14)\n",
        "\n",
        "sns.countplot(y_test, ax=ax[1], color='r')\n",
        "ax[1].set_title('Test-set distribution of y', fontsize=14)\n",
        "\n",
        "plt.show()\n"
      ],
      "id": "XdrJtDNrsvjf",
      "execution_count": 59,
      "outputs": [
        {
          "output_type": "display_data",
          "data": {
            "image/png": "[encoded data removed]",
            "text/plain": [
              "<Figure size 1296x288 with 2 Axes>"
            ]
          },
          "metadata": {
            "tags": [],
            "needs_background": "light"
          }
        }
      ]
    },
    {
      "cell_type": "code",
      "metadata": {
        "colab": {
          "base_uri": "https://localhost:8080/"
        },
        "id": "vGb7TQWnts-o",
        "outputId": "a2c344c7-c206-458c-a7ae-aaf649a288e5"
      },
      "source": [
        "X_train[:,0].reshape(-1,1).shape"
      ],
      "id": "vGb7TQWnts-o",
      "execution_count": 78,
      "outputs": [
        {
          "output_type": "execute_result",
          "data": {
            "text/plain": [
              "(43118, 1)"
            ]
          },
          "metadata": {
            "tags": []
          },
          "execution_count": 78
        }
      ]
    },
    {
      "cell_type": "code",
      "metadata": {
        "id": "GqQoKBFZsvjf"
      },
      "source": [
        "# Scaling\n",
        "rob_scaler = RobustScaler().fit(X_train['Time'].values.reshape(-1,1))\n",
        "X_train.loc[:,'Time'] = rob_scaler.transform(X_train.loc[:,'Time'].values.reshape(-1,1))\n",
        "X_test.loc[:,'Time'] = rob_scaler.transform(X_test.loc[:,'Time'].values.reshape(-1,1))\n",
        "\n",
        "rob_scaler = RobustScaler().fit(X_train['Amount'].values.reshape(-1,1))\n",
        "X_train.loc[:,'Amount'] = rob_scaler.transform(X_train.loc[:,'Amount'].values.reshape(-1,1))\n",
        "X_test.loc[:,'Amount'] = rob_scaler.transform(X_test.loc[:,'Amount'].values.reshape(-1,1))"
      ],
      "id": "GqQoKBFZsvjf",
      "execution_count": 86,
      "outputs": []
    },
    {
      "cell_type": "code",
      "metadata": {
        "id": "ftwIg5qksvjg"
      },
      "source": [
        ""
      ],
      "id": "ftwIg5qksvjg",
      "execution_count": null,
      "outputs": []
    },
    {
      "cell_type": "markdown",
      "metadata": {
        "id": "bQno4a2Tsvjg"
      },
      "source": [
        "### Classifier NN"
      ],
      "id": "bQno4a2Tsvjg"
    },
    {
      "cell_type": "code",
      "metadata": {
        "id": "iI_mrHV1svjh"
      },
      "source": [
        "from tensorflow.keras.metrics import  Recall"
      ],
      "id": "iI_mrHV1svjh",
      "execution_count": 87,
      "outputs": []
    },
    {
      "cell_type": "code",
      "metadata": {
        "id": "6NHWxuzTsvjh"
      },
      "source": [
        "def classif_nn():\n",
        "\n",
        "    optimizer = Adam(lr=0.0001)\n",
        "\n",
        "    # Model architecture\n",
        "    model = models.Sequential()\n",
        "    model.add(layers.Dense(64, activation = 'relu', input_dim = X_train.shape[1]))\n",
        "    model.add(layers.BatchNormalization())\n",
        "\n",
        "    model.add(layers.Dense(64, activation = 'relu'))\n",
        "    model.add(layers.BatchNormalization())\n",
        "    model.add(layers.Dropout(0.5))\n",
        "\n",
        "    model.add(layers.Dense(64, activation = 'relu'))\n",
        "    model.add(layers.BatchNormalization())\n",
        "    model.add(layers.Dropout(0.5))\n",
        "\n",
        "    model.add(layers.Dense(1, activation = 'sigmoid'))\n",
        "\n",
        "    # Model compilation\n",
        "    model.compile(loss='binary_crossentropy',\n",
        "                  optimizer=optimizer,\n",
        "                  metrics=[Recall()])\n",
        "    return model"
      ],
      "id": "6NHWxuzTsvjh",
      "execution_count": 88,
      "outputs": []
    },
    {
      "cell_type": "code",
      "metadata": {
        "id": "P8SEV-2psvji",
        "colab": {
          "base_uri": "https://localhost:8080/"
        },
        "outputId": "d26eb0ab-09f4-4c6e-a2ea-639127373abd"
      },
      "source": [
        "binary_classif_nn = classif_nn()\n",
        "binary_classif_nn.summary()"
      ],
      "id": "P8SEV-2psvji",
      "execution_count": 90,
      "outputs": [
        {
          "output_type": "stream",
          "text": [
            "Model: \"sequential_1\"\n",
            "_________________________________________________________________\n",
            "Layer (type)                 Output Shape              Param #   \n",
            "=================================================================\n",
            "dense_4 (Dense)              (None, 64)                1984      \n",
            "_________________________________________________________________\n",
            "batch_normalization (BatchNo (None, 64)                256       \n",
            "_________________________________________________________________\n",
            "dense_5 (Dense)              (None, 64)                4160      \n",
            "_________________________________________________________________\n",
            "batch_normalization_1 (Batch (None, 64)                256       \n",
            "_________________________________________________________________\n",
            "dropout (Dropout)            (None, 64)                0         \n",
            "_________________________________________________________________\n",
            "dense_6 (Dense)              (None, 64)                4160      \n",
            "_________________________________________________________________\n",
            "batch_normalization_2 (Batch (None, 64)                256       \n",
            "_________________________________________________________________\n",
            "dropout_1 (Dropout)          (None, 64)                0         \n",
            "_________________________________________________________________\n",
            "dense_7 (Dense)              (None, 1)                 65        \n",
            "=================================================================\n",
            "Total params: 11,137\n",
            "Trainable params: 10,753\n",
            "Non-trainable params: 384\n",
            "_________________________________________________________________\n"
          ],
          "name": "stdout"
        }
      ]
    },
    {
      "cell_type": "code",
      "metadata": {
        "scrolled": false,
        "id": "R1_yrST9svjj"
      },
      "source": [
        "es = EarlyStopping(patience=5, restore_best_weights=True)\n",
        "\n",
        "history_binary_classif_nn = binary_classif_nn.fit(X_train, y_train,\n",
        "                    validation_split=0.3,\n",
        "                    epochs=100,\n",
        "                    batch_size=16, \n",
        "                    verbose=0, \n",
        "                    callbacks=[es])"
      ],
      "id": "R1_yrST9svjj",
      "execution_count": 91,
      "outputs": []
    },
    {
      "cell_type": "code",
      "metadata": {
        "id": "Y7mD0w6_svjz",
        "colab": {
          "base_uri": "https://localhost:8080/"
        },
        "outputId": "0005f601-ed88-4256-d11e-883276a938ef"
      },
      "source": [
        "history_binary_classif_nn.history.keys()"
      ],
      "id": "Y7mD0w6_svjz",
      "execution_count": 92,
      "outputs": [
        {
          "output_type": "execute_result",
          "data": {
            "text/plain": [
              "dict_keys(['loss', 'recall', 'val_loss', 'val_recall'])"
            ]
          },
          "metadata": {
            "tags": []
          },
          "execution_count": 92
        }
      ]
    },
    {
      "cell_type": "code",
      "metadata": {
        "id": "zb1eNtLdsvjz"
      },
      "source": [
        "def plot_loss_recall(history):\n",
        "    plt.plot(history.history['loss'])\n",
        "    plt.plot(history.history['val_loss'])\n",
        "    plt.title('Model loss')\n",
        "    plt.ylabel('Loss')\n",
        "    plt.xlabel('Epoch')\n",
        "    plt.legend(['Train', 'Test'], loc='best')\n",
        "    plt.show()\n",
        "    \n",
        "    plt.plot(history.history['recall'])\n",
        "    plt.plot(history.history['val_recall'])\n",
        "    plt.title('Model Recall')\n",
        "    plt.ylabel('Recall')\n",
        "    plt.xlabel('Epoch')\n",
        "    plt.legend(['Train', 'Test'], loc='best')\n",
        "    plt.show()\n",
        "    "
      ],
      "id": "zb1eNtLdsvjz",
      "execution_count": 95,
      "outputs": []
    },
    {
      "cell_type": "code",
      "metadata": {
        "id": "5hTjvGLJsvjz",
        "colab": {
          "base_uri": "https://localhost:8080/",
          "height": 573
        },
        "outputId": "fe85ab75-34fc-4d6e-e07f-795f125ce1c6"
      },
      "source": [
        "plot_loss_recall(history_binary_classif_nn)"
      ],
      "id": "5hTjvGLJsvjz",
      "execution_count": 96,
      "outputs": [
        {
          "output_type": "display_data",
          "data": {
            "image/png": "[encoded data removed]",
            "text/plain": [
              "<Figure size 432x288 with 1 Axes>"
            ]
          },
          "metadata": {
            "tags": [],
            "needs_background": "light"
          }
        },
        {
          "output_type": "display_data",
          "data": {
            "image/png": "[encoded data removed]",
            "text/plain": [
              "<Figure size 432x288 with 1 Axes>"
            ]
          },
          "metadata": {
            "tags": [],
            "needs_background": "light"
          }
        }
      ]
    },
    {
      "cell_type": "markdown",
      "metadata": {
        "id": "2WL72vc0svj0"
      },
      "source": [
        "### Recall Score"
      ],
      "id": "2WL72vc0svj0"
    },
    {
      "cell_type": "code",
      "metadata": {
        "id": "H_GZ72bCsvj0",
        "colab": {
          "base_uri": "https://localhost:8080/"
        },
        "outputId": "bbaf987c-c5ca-454a-c4fb-998010a9d988"
      },
      "source": [
        "binary_classif_nn.evaluate(X_test, y_test, verbose=0)"
      ],
      "id": "H_GZ72bCsvj0",
      "execution_count": 97,
      "outputs": [
        {
          "output_type": "execute_result",
          "data": {
            "text/plain": [
              "[0.0160004161298275, 0.9896834492683411]"
            ]
          },
          "metadata": {
            "tags": []
          },
          "execution_count": 97
        }
      ]
    },
    {
      "cell_type": "markdown",
      "metadata": {
        "id": "KdWQKsWOsvj0"
      },
      "source": [
        "### Confusion Matrix"
      ],
      "id": "KdWQKsWOsvj0"
    },
    {
      "cell_type": "code",
      "metadata": {
        "id": "Rqgw27_tsvj0",
        "colab": {
          "base_uri": "https://localhost:8080/"
        },
        "outputId": "e2e23c3e-c49e-4d65-b04e-cef0c41c2d9e"
      },
      "source": [
        "# Confusion Matrix\n",
        "y_pred = binary_classif_nn.predict_classes(X_test)\n",
        "cm = confusion_matrix(y_test,y_pred)\n",
        "cm"
      ],
      "id": "Rqgw27_tsvj0",
      "execution_count": 98,
      "outputs": [
        {
          "output_type": "execute_result",
          "data": {
            "text/plain": [
              "array([[14170,    45],\n",
              "       [   44,  4221]])"
            ]
          },
          "metadata": {
            "tags": []
          },
          "execution_count": 98
        }
      ]
    },
    {
      "cell_type": "code",
      "metadata": {
        "id": "gxMyjND6svj0",
        "colab": {
          "base_uri": "https://localhost:8080/"
        },
        "outputId": "e3090da2-7e9e-4505-d7a9-823c08c3baeb"
      },
      "source": [
        "y_pred.shape"
      ],
      "id": "gxMyjND6svj0",
      "execution_count": 99,
      "outputs": [
        {
          "output_type": "execute_result",
          "data": {
            "text/plain": [
              "(18480, 1)"
            ]
          },
          "metadata": {
            "tags": []
          },
          "execution_count": 99
        }
      ]
    },
    {
      "cell_type": "code",
      "metadata": {
        "id": "8yTl8O_6svj1",
        "colab": {
          "base_uri": "https://localhost:8080/"
        },
        "outputId": "5bd7fa94-0b9b-4ac1-ebc8-fb98c91abaf7"
      },
      "source": [
        "y_test.shape"
      ],
      "id": "8yTl8O_6svj1",
      "execution_count": 100,
      "outputs": [
        {
          "output_type": "execute_result",
          "data": {
            "text/plain": [
              "(18480,)"
            ]
          },
          "metadata": {
            "tags": []
          },
          "execution_count": 100
        }
      ]
    },
    {
      "cell_type": "markdown",
      "metadata": {
        "heading_collapsed": true,
        "id": "egq0GFqqsvj1"
      },
      "source": [
        "#### Custom CM"
      ],
      "id": "egq0GFqqsvj1"
    },
    {
      "cell_type": "code",
      "metadata": {
        "hidden": true,
        "id": "W5WN3ixysvj1"
      },
      "source": [
        "import numpy as np\n",
        "\n",
        "\n",
        "def plot_confusion_matrix_custom(cm,\n",
        "                          target_names,\n",
        "                          title='Confusion matrix',\n",
        "                          cmap=None,\n",
        "                          normalize=True):\n",
        "    \"\"\"\n",
        "    given a sklearn confusion matrix (cm), make a nice plot\n",
        "\n",
        "    Arguments\n",
        "    ---------\n",
        "    cm:           confusion matrix from sklearn.metrics.confusion_matrix\n",
        "\n",
        "    target_names: given classification classes such as [0, 1, 2]\n",
        "                  the class names, for example: ['high', 'medium', 'low']\n",
        "\n",
        "    title:        the text to display at the top of the matrix\n",
        "\n",
        "    cmap:         the gradient of the values displayed from matplotlib.pyplot.cm\n",
        "                  see http://matplotlib.org/examples/color/colormaps_reference.html\n",
        "                  plt.get_cmap('jet') or plt.cm.Blues\n",
        "\n",
        "    normalize:    If False, plot the raw numbers\n",
        "                  If True, plot the proportions\n",
        "\n",
        "    Usage\n",
        "    -----\n",
        "    plot_confusion_matrix(cm           = cm,                  # confusion matrix created by\n",
        "                                                              # sklearn.metrics.confusion_matrix\n",
        "                          normalize    = True,                # show proportions\n",
        "                          target_names = y_labels_vals,       # list of names of the classes\n",
        "                          title        = best_estimator_name) # title of graph\n",
        "\n",
        "    Citiation\n",
        "    ---------\n",
        "    http://scikit-learn.org/stable/auto_examples/model_selection/plot_confusion_matrix.html\n",
        "\n",
        "    \"\"\"\n",
        "    import matplotlib.pyplot as plt\n",
        "    import numpy as np\n",
        "    import itertools\n",
        "\n",
        "    accuracy = np.trace(cm) / float(np.sum(cm))\n",
        "    misclass = 1 - accuracy\n",
        "    recall = cm[1][1]/cm[1].sum()\n",
        "\n",
        "    if cmap is None:\n",
        "        cmap = plt.get_cmap('Blues')\n",
        "\n",
        "    plt.figure(figsize=(8, 6))\n",
        "    plt.imshow(cm, interpolation='nearest', cmap=cmap)\n",
        "    plt.title(title)\n",
        "    plt.colorbar()\n",
        "\n",
        "    if target_names is not None:\n",
        "        tick_marks = np.arange(len(target_names))\n",
        "        plt.xticks(tick_marks, target_names, rotation=45)\n",
        "        plt.yticks(tick_marks, target_names)\n",
        "\n",
        "    if normalize:\n",
        "        cm = cm.astype('float') / cm.sum(axis=1)[:, np.newaxis]\n",
        "\n",
        "\n",
        "    thresh = cm.max() / 1.5 if normalize else cm.max() / 2\n",
        "    for i, j in itertools.product(range(cm.shape[0]), range(cm.shape[1])):\n",
        "        if normalize:\n",
        "            plt.text(j, i, \"{:0.4f}\".format(cm[i, j]),\n",
        "                     horizontalalignment=\"center\",\n",
        "                     color=\"white\" if cm[i, j] > thresh else \"black\")\n",
        "        else:\n",
        "            plt.text(j, i, \"{:,}\".format(cm[i, j]),\n",
        "                     horizontalalignment=\"center\",\n",
        "                     color=\"white\" if cm[i, j] > thresh else \"black\")\n",
        "\n",
        "\n",
        "    plt.tight_layout()\n",
        "    plt.ylabel('True label')\n",
        "    plt.xlabel('Predicted label\\naccuracy={:0.4f}; misclass={:0.4f};recall={:0.4f}'.format(accuracy, misclass,recall))\n",
        "    plt.show()"
      ],
      "id": "W5WN3ixysvj1",
      "execution_count": 101,
      "outputs": []
    },
    {
      "cell_type": "markdown",
      "metadata": {
        "id": "CojN9oI-svj2"
      },
      "source": [
        "#### Fraud detection"
      ],
      "id": "CojN9oI-svj2"
    },
    {
      "cell_type": "code",
      "metadata": {
        "id": "jwhaA9ubsvj2",
        "colab": {
          "base_uri": "https://localhost:8080/",
          "height": 467
        },
        "outputId": "a66e0fae-bc64-4db9-ad19-417d749dcfed"
      },
      "source": [
        "plot_confusion_matrix_custom(cm,['Regular','Fraud'],normalize=False)"
      ],
      "id": "jwhaA9ubsvj2",
      "execution_count": 102,
      "outputs": [
        {
          "output_type": "display_data",
          "data": {
            "image/png": "[encoded data removed]",
            "text/plain": [
              "<Figure size 576x432 with 2 Axes>"
            ]
          },
          "metadata": {
            "tags": [],
            "needs_background": "light"
          }
        }
      ]
    },
    {
      "cell_type": "code",
      "metadata": {
        "id": "jfgFgWJ2wapA"
      },
      "source": [
        ""
      ],
      "id": "jfgFgWJ2wapA",
      "execution_count": null,
      "outputs": []
    }
  ]
}